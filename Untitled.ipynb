{
 "cells": [
  {
   "cell_type": "code",
   "execution_count": null,
   "id": "cdde180c-1bab-4459-a4af-309b6178cac1",
   "metadata": {},
   "outputs": [],
   "source": [
    "import pandas as pd\n",
    "from pycaret.regression import setup, compare_models, save_model\n",
    "\n",
    "# 1. Wczytanie i przygotowanie danych\n",
    "df = pd.read_csv('Ceny mieszkań.csv', sep=';', encoding='iso-8859-2')\n",
    "\n",
    "df_long = df.melt(id_vars=df.columns[0], var_name='Okres', value_name='Cena')\n",
    "df_long.columns = ['Miasto', 'Okres', 'Cena']\n",
    "\n",
    "df_long[['Rok', 'Kwartał']] = df_long['Okres'].str.extract(r'(\\d{4})\\s+([IVX]+)\\s+kwarta')\n",
    "df_long.drop(columns=['Okres'], inplace=True)\n",
    "\n",
    "map_kwartał = {'I': 1, 'II': 2, 'III': 3, 'IV': 4}\n",
    "df_long['Kwartał'] = df_long['Kwartał'].map(map_kwartał)\n",
    "\n",
    "df_long['Cena'] = (\n",
    "    df_long['Cena'].astype(str)\n",
    "    .str.replace(r'[^\\d,]', '', regex=True)\n",
    "    .str.replace(',', '.')\n",
    "    .replace('', pd.NA)\n",
    "    .astype(float)\n",
    ")\n",
    "df_long.dropna(inplace=True)\n",
    "\n",
    "df_long['Rok'] = df_long['Rok'].astype(int)\n",
    "df_long['Kwartał'] = df_long['Kwartał'].astype(int)\n",
    "\n",
    "# 2. Konfiguracja PyCaret\n",
    "exp = setup(\n",
    "    data=df_long,\n",
    "    target='Cena',\n",
    "    categorical_features=['Miasto', 'Rok', 'Kwartał'],\n",
    "    session_id=123,\n",
    "    verbose=True\n",
    ")\n",
    "\n",
    "# 3. Porównanie modeli i wybór najlepszego\n",
    "best_model = compare_models()\n",
    "\n",
    "# 4. Zapisanie modelu do pliku\n",
    "save_model(best_model, 'model_ceny_mieszkan')\n",
    "\n",
    "print(\"Model wytrenowany i zapisany jako 'model_ceny_mieszkan.pkl'\")\n"
   ]
  },
  {
   "cell_type": "code",
   "execution_count": null,
   "id": "bb66ec09-2371-45fa-b7dd-9b421b0be6cf",
   "metadata": {},
   "outputs": [],
   "source": []
  }
 ],
 "metadata": {
  "kernelspec": {
   "display_name": "Python 3 (ipykernel)",
   "language": "python",
   "name": "python3"
  },
  "language_info": {
   "codemirror_mode": {
    "name": "ipython",
    "version": 3
   },
   "file_extension": ".py",
   "mimetype": "text/x-python",
   "name": "python",
   "nbconvert_exporter": "python",
   "pygments_lexer": "ipython3",
   "version": "3.11.11"
  }
 },
 "nbformat": 4,
 "nbformat_minor": 5
}
