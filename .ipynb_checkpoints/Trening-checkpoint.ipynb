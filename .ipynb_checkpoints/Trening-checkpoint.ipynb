{
 "cells": [
  {
   "cell_type": "code",
   "execution_count": 1,
   "id": "265efed1-420a-455f-bc9d-7d79dcec1edc",
   "metadata": {},
   "outputs": [],
   "source": [
    "# 1. Importy\n",
    "import pandas as pd\n",
    "from pycaret.regression import setup, compare_models, predict_model, save_model, load_model"
   ]
  },
  {
   "cell_type": "code",
   "execution_count": 3,
   "id": "a358b910-c9b8-44f1-ad82-648542b4b5a5",
   "metadata": {},
   "outputs": [],
   "source": [
    "# 2. Wczytanie danych\n",
    "df = pd.read_csv('Ceny mieszkań.csv', sep=';', encoding='iso-8859-2')"
   ]
  },
  {
   "cell_type": "code",
   "execution_count": 4,
   "id": "be0f20b7-424e-4e88-a2b7-4e526085ef2f",
   "metadata": {},
   "outputs": [
    {
     "name": "stdout",
     "output_type": "stream",
     "text": [
      "  Unnamed: 0 2020 I kwarta¸ 2020 II kwarta¸ 2020 III kwarta¸ 2020 IV kwarta¸  \\\n",
      "0     GdaÄsk          8 383           8 480            8 882           8 874   \n",
      "1     Gdynia          7 667           7 727            7 996           7 906   \n",
      "2      Sopot          11760           11700            11780           12050   \n",
      "3  Wejherowo           4500            4600             4700            4800   \n",
      "4       Reda           5500            5600             5700            5800   \n",
      "\n",
      "  2021 I kwarta¸ 2021 II kwarta¸ 2021 III kwarta¸ 2021 IV kwarta¸  \\\n",
      "0          9 031           9 071            9 566          10 208   \n",
      "1          8 025           8 465            8 775           8 943   \n",
      "2          12200           12800            13400           14100   \n",
      "3           5000            5200             5400            5600   \n",
      "4           5900            6000             6100            6200   \n",
      "\n",
      "  2022 I kwarta¸ 2022 II kwarta¸ 2022 III kwarta¸ 2022 IV kwarta¸  \\\n",
      "0         10 239          10 813           10 880          11 526   \n",
      "1          9 245           9 750           10 176           9 777   \n",
      "2          15100           15800            15500           15100   \n",
      "3           5800            6000             6200            6400   \n",
      "4           6400            6600             6800            7000   \n",
      "\n",
      "  2023 I kwarta¸ 2023 II kwarta¸ 2023 III kwarta¸ 2023 IV kwarta¸  \\\n",
      "0         10 963          10 899           11 629          11 503   \n",
      "1          9 436           9 889           10 051          10 171   \n",
      "2          14500           15300            15500           15900   \n",
      "3           6600            6800             7000            7200   \n",
      "4           7200            7400             7600            7800   \n",
      "\n",
      "  2024 I kwarta¸ 2024 II kwarta¸ 2024 III kwarta¸  \n",
      "0         12 148          12 243           12 604  \n",
      "1         10 588          11 524           11 609  \n",
      "2          16500           17200            17900  \n",
      "3           7400            7600             7800  \n",
      "4           8000            8300             8600  \n",
      "Index(['Unnamed: 0', '2020 I kwarta¸', '2020 II kwarta¸', '2020 III kwarta¸',\n",
      "       '2020 IV kwarta¸', '2021 I kwarta¸', '2021 II kwarta¸',\n",
      "       '2021 III kwarta¸', '2021 IV kwarta¸', '2022 I kwarta¸',\n",
      "       '2022 II kwarta¸', '2022 III kwarta¸', '2022 IV kwarta¸',\n",
      "       '2023 I kwarta¸', '2023 II kwarta¸', '2023 III kwarta¸',\n",
      "       '2023 IV kwarta¸', '2024 I kwarta¸', '2024 II kwarta¸',\n",
      "       '2024 III kwarta¸'],\n",
      "      dtype='object')\n"
     ]
    }
   ],
   "source": [
    "# 3. Podgląd danych\n",
    "print(df.head())\n",
    "print(df.columns)"
   ]
  },
  {
   "cell_type": "code",
   "execution_count": 5,
   "id": "fb2c6330-0d62-4374-bde5-b6522757929b",
   "metadata": {},
   "outputs": [
    {
     "name": "stdout",
     "output_type": "stream",
     "text": [
      "Unnamed: 0          object\n",
      "2020 I kwarta¸      object\n",
      "2020 II kwarta¸     object\n",
      "2020 III kwarta¸    object\n",
      "2020 IV kwarta¸     object\n",
      "2021 I kwarta¸      object\n",
      "2021 II kwarta¸     object\n",
      "2021 III kwarta¸    object\n",
      "2021 IV kwarta¸     object\n",
      "2022 I kwarta¸      object\n",
      "2022 II kwarta¸     object\n",
      "2022 III kwarta¸    object\n",
      "2022 IV kwarta¸     object\n",
      "2023 I kwarta¸      object\n",
      "2023 II kwarta¸     object\n",
      "2023 III kwarta¸    object\n",
      "2023 IV kwarta¸     object\n",
      "2024 I kwarta¸      object\n",
      "2024 II kwarta¸     object\n",
      "2024 III kwarta¸    object\n",
      "dtype: object\n"
     ]
    }
   ],
   "source": [
    "# 4. Sprawdzenie typu danych\n",
    "print(df.dtypes)"
   ]
  },
  {
   "cell_type": "code",
   "execution_count": 6,
   "id": "18452765-4afd-46d5-8333-2c0699df2e37",
   "metadata": {},
   "outputs": [
    {
     "data": {
      "text/html": [
       "<div>\n",
       "<style scoped>\n",
       "    .dataframe tbody tr th:only-of-type {\n",
       "        vertical-align: middle;\n",
       "    }\n",
       "\n",
       "    .dataframe tbody tr th {\n",
       "        vertical-align: top;\n",
       "    }\n",
       "\n",
       "    .dataframe thead th {\n",
       "        text-align: right;\n",
       "    }\n",
       "</style>\n",
       "<table border=\"1\" class=\"dataframe\">\n",
       "  <thead>\n",
       "    <tr style=\"text-align: right;\">\n",
       "      <th></th>\n",
       "      <th>Miasto</th>\n",
       "      <th>Okres</th>\n",
       "      <th>Cena</th>\n",
       "      <th>Rok</th>\n",
       "      <th>Kwartał</th>\n",
       "    </tr>\n",
       "  </thead>\n",
       "  <tbody>\n",
       "    <tr>\n",
       "      <th>0</th>\n",
       "      <td>GdaÄsk</td>\n",
       "      <td>2020 I kwarta¸</td>\n",
       "      <td>8383.0</td>\n",
       "      <td>2020</td>\n",
       "      <td>1</td>\n",
       "    </tr>\n",
       "    <tr>\n",
       "      <th>1</th>\n",
       "      <td>Gdynia</td>\n",
       "      <td>2020 I kwarta¸</td>\n",
       "      <td>7667.0</td>\n",
       "      <td>2020</td>\n",
       "      <td>1</td>\n",
       "    </tr>\n",
       "    <tr>\n",
       "      <th>2</th>\n",
       "      <td>Sopot</td>\n",
       "      <td>2020 I kwarta¸</td>\n",
       "      <td>11760.0</td>\n",
       "      <td>2020</td>\n",
       "      <td>1</td>\n",
       "    </tr>\n",
       "    <tr>\n",
       "      <th>3</th>\n",
       "      <td>Wejherowo</td>\n",
       "      <td>2020 I kwarta¸</td>\n",
       "      <td>4500.0</td>\n",
       "      <td>2020</td>\n",
       "      <td>1</td>\n",
       "    </tr>\n",
       "    <tr>\n",
       "      <th>4</th>\n",
       "      <td>Reda</td>\n",
       "      <td>2020 I kwarta¸</td>\n",
       "      <td>5500.0</td>\n",
       "      <td>2020</td>\n",
       "      <td>1</td>\n",
       "    </tr>\n",
       "  </tbody>\n",
       "</table>\n",
       "</div>"
      ],
      "text/plain": [
       "      Miasto           Okres     Cena   Rok  Kwartał\n",
       "0     GdaÄsk  2020 I kwarta¸   8383.0  2020        1\n",
       "1     Gdynia  2020 I kwarta¸   7667.0  2020        1\n",
       "2      Sopot  2020 I kwarta¸  11760.0  2020        1\n",
       "3  Wejherowo  2020 I kwarta¸   4500.0  2020        1\n",
       "4       Reda  2020 I kwarta¸   5500.0  2020        1"
      ]
     },
     "execution_count": 6,
     "metadata": {},
     "output_type": "execute_result"
    }
   ],
   "source": [
    "# Zamiana z szerokiego formatu (kolumny jako kwartały) na długi\n",
    "df_long = df.melt(id_vars=df.columns[0], var_name='Okres', value_name='Cena')\n",
    "df_long.columns = ['Miasto', 'Okres', 'Cena']\n",
    "\n",
    "# Rozdzielenie kolumny \"Okres\" na rok i kwartał\n",
    "df_long[['Rok', 'Kwartał']] = df_long['Okres'].str.extract(r'(\\d{4})\\s+([IVX]+)\\s+kwarta')\n",
    "\n",
    "# Zamiana kwartałów na liczby\n",
    "map_kwartał = {'I': 1, 'II': 2, 'III': 3, 'IV': 4}\n",
    "df_long['Kwartał'] = df_long['Kwartał'].map(map_kwartał)\n",
    "\n",
    "# Czyszczenie kolumny Cena z dziwnych znaków i zamiana na float\n",
    "df_long['Cena'] = (\n",
    "    df_long['Cena'].astype(str)\n",
    "    .str.replace(r'[^\\d]', '', regex=True)\n",
    "    .replace('', pd.NA)\n",
    "    .astype(float)\n",
    ")\n",
    "\n",
    "# Usunięcie braków\n",
    "df_long.dropna(inplace=True)\n",
    "\n",
    "# Upewnij się, że Rok to liczba\n",
    "df_long['Rok'] = df_long['Rok'].astype(int)\n",
    "\n",
    "df_long.head()"
   ]
  },
  {
   "cell_type": "code",
   "execution_count": 7,
   "id": "9591e9fe-df6e-4d68-8265-d987c8f2842b",
   "metadata": {},
   "outputs": [
    {
     "data": {
      "text/html": [
       "<style type=\"text/css\">\n",
       "#T_f7f25_row8_col1 {\n",
       "  background-color: lightgreen;\n",
       "}\n",
       "</style>\n",
       "<table id=\"T_f7f25\">\n",
       "  <thead>\n",
       "    <tr>\n",
       "      <th class=\"blank level0\" >&nbsp;</th>\n",
       "      <th id=\"T_f7f25_level0_col0\" class=\"col_heading level0 col0\" >Description</th>\n",
       "      <th id=\"T_f7f25_level0_col1\" class=\"col_heading level0 col1\" >Value</th>\n",
       "    </tr>\n",
       "  </thead>\n",
       "  <tbody>\n",
       "    <tr>\n",
       "      <th id=\"T_f7f25_level0_row0\" class=\"row_heading level0 row0\" >0</th>\n",
       "      <td id=\"T_f7f25_row0_col0\" class=\"data row0 col0\" >Session id</td>\n",
       "      <td id=\"T_f7f25_row0_col1\" class=\"data row0 col1\" >123</td>\n",
       "    </tr>\n",
       "    <tr>\n",
       "      <th id=\"T_f7f25_level0_row1\" class=\"row_heading level0 row1\" >1</th>\n",
       "      <td id=\"T_f7f25_row1_col0\" class=\"data row1 col0\" >Target</td>\n",
       "      <td id=\"T_f7f25_row1_col1\" class=\"data row1 col1\" >Cena</td>\n",
       "    </tr>\n",
       "    <tr>\n",
       "      <th id=\"T_f7f25_level0_row2\" class=\"row_heading level0 row2\" >2</th>\n",
       "      <td id=\"T_f7f25_row2_col0\" class=\"data row2 col0\" >Target type</td>\n",
       "      <td id=\"T_f7f25_row2_col1\" class=\"data row2 col1\" >Regression</td>\n",
       "    </tr>\n",
       "    <tr>\n",
       "      <th id=\"T_f7f25_level0_row3\" class=\"row_heading level0 row3\" >3</th>\n",
       "      <td id=\"T_f7f25_row3_col0\" class=\"data row3 col0\" >Original data shape</td>\n",
       "      <td id=\"T_f7f25_row3_col1\" class=\"data row3 col1\" >(114, 5)</td>\n",
       "    </tr>\n",
       "    <tr>\n",
       "      <th id=\"T_f7f25_level0_row4\" class=\"row_heading level0 row4\" >4</th>\n",
       "      <td id=\"T_f7f25_row4_col0\" class=\"data row4 col0\" >Transformed data shape</td>\n",
       "      <td id=\"T_f7f25_row4_col1\" class=\"data row4 col1\" >(114, 17)</td>\n",
       "    </tr>\n",
       "    <tr>\n",
       "      <th id=\"T_f7f25_level0_row5\" class=\"row_heading level0 row5\" >5</th>\n",
       "      <td id=\"T_f7f25_row5_col0\" class=\"data row5 col0\" >Transformed train set shape</td>\n",
       "      <td id=\"T_f7f25_row5_col1\" class=\"data row5 col1\" >(79, 17)</td>\n",
       "    </tr>\n",
       "    <tr>\n",
       "      <th id=\"T_f7f25_level0_row6\" class=\"row_heading level0 row6\" >6</th>\n",
       "      <td id=\"T_f7f25_row6_col0\" class=\"data row6 col0\" >Transformed test set shape</td>\n",
       "      <td id=\"T_f7f25_row6_col1\" class=\"data row6 col1\" >(35, 17)</td>\n",
       "    </tr>\n",
       "    <tr>\n",
       "      <th id=\"T_f7f25_level0_row7\" class=\"row_heading level0 row7\" >7</th>\n",
       "      <td id=\"T_f7f25_row7_col0\" class=\"data row7 col0\" >Categorical features</td>\n",
       "      <td id=\"T_f7f25_row7_col1\" class=\"data row7 col1\" >3</td>\n",
       "    </tr>\n",
       "    <tr>\n",
       "      <th id=\"T_f7f25_level0_row8\" class=\"row_heading level0 row8\" >8</th>\n",
       "      <td id=\"T_f7f25_row8_col0\" class=\"data row8 col0\" >Preprocess</td>\n",
       "      <td id=\"T_f7f25_row8_col1\" class=\"data row8 col1\" >True</td>\n",
       "    </tr>\n",
       "    <tr>\n",
       "      <th id=\"T_f7f25_level0_row9\" class=\"row_heading level0 row9\" >9</th>\n",
       "      <td id=\"T_f7f25_row9_col0\" class=\"data row9 col0\" >Imputation type</td>\n",
       "      <td id=\"T_f7f25_row9_col1\" class=\"data row9 col1\" >simple</td>\n",
       "    </tr>\n",
       "    <tr>\n",
       "      <th id=\"T_f7f25_level0_row10\" class=\"row_heading level0 row10\" >10</th>\n",
       "      <td id=\"T_f7f25_row10_col0\" class=\"data row10 col0\" >Numeric imputation</td>\n",
       "      <td id=\"T_f7f25_row10_col1\" class=\"data row10 col1\" >mean</td>\n",
       "    </tr>\n",
       "    <tr>\n",
       "      <th id=\"T_f7f25_level0_row11\" class=\"row_heading level0 row11\" >11</th>\n",
       "      <td id=\"T_f7f25_row11_col0\" class=\"data row11 col0\" >Categorical imputation</td>\n",
       "      <td id=\"T_f7f25_row11_col1\" class=\"data row11 col1\" >mode</td>\n",
       "    </tr>\n",
       "    <tr>\n",
       "      <th id=\"T_f7f25_level0_row12\" class=\"row_heading level0 row12\" >12</th>\n",
       "      <td id=\"T_f7f25_row12_col0\" class=\"data row12 col0\" >Maximum one-hot encoding</td>\n",
       "      <td id=\"T_f7f25_row12_col1\" class=\"data row12 col1\" >25</td>\n",
       "    </tr>\n",
       "    <tr>\n",
       "      <th id=\"T_f7f25_level0_row13\" class=\"row_heading level0 row13\" >13</th>\n",
       "      <td id=\"T_f7f25_row13_col0\" class=\"data row13 col0\" >Encoding method</td>\n",
       "      <td id=\"T_f7f25_row13_col1\" class=\"data row13 col1\" >None</td>\n",
       "    </tr>\n",
       "    <tr>\n",
       "      <th id=\"T_f7f25_level0_row14\" class=\"row_heading level0 row14\" >14</th>\n",
       "      <td id=\"T_f7f25_row14_col0\" class=\"data row14 col0\" >Fold Generator</td>\n",
       "      <td id=\"T_f7f25_row14_col1\" class=\"data row14 col1\" >KFold</td>\n",
       "    </tr>\n",
       "    <tr>\n",
       "      <th id=\"T_f7f25_level0_row15\" class=\"row_heading level0 row15\" >15</th>\n",
       "      <td id=\"T_f7f25_row15_col0\" class=\"data row15 col0\" >Fold Number</td>\n",
       "      <td id=\"T_f7f25_row15_col1\" class=\"data row15 col1\" >10</td>\n",
       "    </tr>\n",
       "    <tr>\n",
       "      <th id=\"T_f7f25_level0_row16\" class=\"row_heading level0 row16\" >16</th>\n",
       "      <td id=\"T_f7f25_row16_col0\" class=\"data row16 col0\" >CPU Jobs</td>\n",
       "      <td id=\"T_f7f25_row16_col1\" class=\"data row16 col1\" >-1</td>\n",
       "    </tr>\n",
       "    <tr>\n",
       "      <th id=\"T_f7f25_level0_row17\" class=\"row_heading level0 row17\" >17</th>\n",
       "      <td id=\"T_f7f25_row17_col0\" class=\"data row17 col0\" >Use GPU</td>\n",
       "      <td id=\"T_f7f25_row17_col1\" class=\"data row17 col1\" >False</td>\n",
       "    </tr>\n",
       "    <tr>\n",
       "      <th id=\"T_f7f25_level0_row18\" class=\"row_heading level0 row18\" >18</th>\n",
       "      <td id=\"T_f7f25_row18_col0\" class=\"data row18 col0\" >Log Experiment</td>\n",
       "      <td id=\"T_f7f25_row18_col1\" class=\"data row18 col1\" >False</td>\n",
       "    </tr>\n",
       "    <tr>\n",
       "      <th id=\"T_f7f25_level0_row19\" class=\"row_heading level0 row19\" >19</th>\n",
       "      <td id=\"T_f7f25_row19_col0\" class=\"data row19 col0\" >Experiment Name</td>\n",
       "      <td id=\"T_f7f25_row19_col1\" class=\"data row19 col1\" >reg-default-name</td>\n",
       "    </tr>\n",
       "    <tr>\n",
       "      <th id=\"T_f7f25_level0_row20\" class=\"row_heading level0 row20\" >20</th>\n",
       "      <td id=\"T_f7f25_row20_col0\" class=\"data row20 col0\" >USI</td>\n",
       "      <td id=\"T_f7f25_row20_col1\" class=\"data row20 col1\" >ae6b</td>\n",
       "    </tr>\n",
       "  </tbody>\n",
       "</table>\n"
      ],
      "text/plain": [
       "<pandas.io.formats.style.Styler at 0x25929c9b050>"
      ]
     },
     "metadata": {},
     "output_type": "display_data"
    }
   ],
   "source": [
    "# 5. Uruchomienie PyCaret - regresja\n",
    "exp = setup(\n",
    "    data=df_long,\n",
    "    target='Cena',  # <-- upewnij się, że to dokładna nazwa kolumny z ceną za m²\n",
    "    categorical_features=['Miasto', 'Rok', 'Kwartał'],\n",
    "    session_id=123,\n",
    "    verbose=True\n",
    ")"
   ]
  },
  {
   "cell_type": "code",
   "execution_count": 8,
   "id": "4aa7da12-11e1-4ae5-8fd7-48bf138abe4b",
   "metadata": {},
   "outputs": [
    {
     "data": {
      "text/html": [],
      "text/plain": [
       "<IPython.core.display.HTML object>"
      ]
     },
     "metadata": {},
     "output_type": "display_data"
    },
    {
     "data": {
      "text/html": [
       "<style type=\"text/css\">\n",
       "#T_5e737 th {\n",
       "  text-align: left;\n",
       "}\n",
       "#T_5e737_row0_col0, #T_5e737_row1_col0, #T_5e737_row1_col1, #T_5e737_row1_col2, #T_5e737_row1_col3, #T_5e737_row1_col4, #T_5e737_row1_col5, #T_5e737_row1_col6 {\n",
       "  text-align: left;\n",
       "}\n",
       "#T_5e737_row0_col1, #T_5e737_row0_col2, #T_5e737_row0_col3, #T_5e737_row0_col4, #T_5e737_row0_col5, #T_5e737_row0_col6 {\n",
       "  text-align: left;\n",
       "  background-color: yellow;\n",
       "}\n",
       "#T_5e737_row0_col7 {\n",
       "  text-align: left;\n",
       "  background-color: yellow;\n",
       "  background-color: lightgrey;\n",
       "}\n",
       "#T_5e737_row1_col7 {\n",
       "  text-align: left;\n",
       "  background-color: lightgrey;\n",
       "}\n",
       "</style>\n",
       "<table id=\"T_5e737\">\n",
       "  <thead>\n",
       "    <tr>\n",
       "      <th class=\"blank level0\" >&nbsp;</th>\n",
       "      <th id=\"T_5e737_level0_col0\" class=\"col_heading level0 col0\" >Model</th>\n",
       "      <th id=\"T_5e737_level0_col1\" class=\"col_heading level0 col1\" >MAE</th>\n",
       "      <th id=\"T_5e737_level0_col2\" class=\"col_heading level0 col2\" >MSE</th>\n",
       "      <th id=\"T_5e737_level0_col3\" class=\"col_heading level0 col3\" >RMSE</th>\n",
       "      <th id=\"T_5e737_level0_col4\" class=\"col_heading level0 col4\" >R2</th>\n",
       "      <th id=\"T_5e737_level0_col5\" class=\"col_heading level0 col5\" >RMSLE</th>\n",
       "      <th id=\"T_5e737_level0_col6\" class=\"col_heading level0 col6\" >MAPE</th>\n",
       "      <th id=\"T_5e737_level0_col7\" class=\"col_heading level0 col7\" >TT (Sec)</th>\n",
       "    </tr>\n",
       "  </thead>\n",
       "  <tbody>\n",
       "    <tr>\n",
       "      <th id=\"T_5e737_level0_row0\" class=\"row_heading level0 row0\" >dummy</th>\n",
       "      <td id=\"T_5e737_row0_col0\" class=\"data row0 col0\" >Dummy Regressor</td>\n",
       "      <td id=\"T_5e737_row0_col1\" class=\"data row0 col1\" >2538.6618</td>\n",
       "      <td id=\"T_5e737_row0_col2\" class=\"data row0 col2\" >9587792.9000</td>\n",
       "      <td id=\"T_5e737_row0_col3\" class=\"data row0 col3\" >3010.5376</td>\n",
       "      <td id=\"T_5e737_row0_col4\" class=\"data row0 col4\" >-0.8313</td>\n",
       "      <td id=\"T_5e737_row0_col5\" class=\"data row0 col5\" >0.3349</td>\n",
       "      <td id=\"T_5e737_row0_col6\" class=\"data row0 col6\" >0.3088</td>\n",
       "      <td id=\"T_5e737_row0_col7\" class=\"data row0 col7\" >0.0230</td>\n",
       "    </tr>\n",
       "    <tr>\n",
       "      <th id=\"T_5e737_level0_row1\" class=\"row_heading level0 row1\" >lightgbm</th>\n",
       "      <td id=\"T_5e737_row1_col0\" class=\"data row1 col0\" >Light Gradient Boosting Machine</td>\n",
       "      <td id=\"T_5e737_row1_col1\" class=\"data row1 col1\" >2560.3942</td>\n",
       "      <td id=\"T_5e737_row1_col2\" class=\"data row1 col2\" >9770984.6628</td>\n",
       "      <td id=\"T_5e737_row1_col3\" class=\"data row1 col3\" >3037.8464</td>\n",
       "      <td id=\"T_5e737_row1_col4\" class=\"data row1 col4\" >-0.8859</td>\n",
       "      <td id=\"T_5e737_row1_col5\" class=\"data row1 col5\" >0.3380</td>\n",
       "      <td id=\"T_5e737_row1_col6\" class=\"data row1 col6\" >0.3119</td>\n",
       "      <td id=\"T_5e737_row1_col7\" class=\"data row1 col7\" >0.0580</td>\n",
       "    </tr>\n",
       "  </tbody>\n",
       "</table>\n"
      ],
      "text/plain": [
       "<pandas.io.formats.style.Styler at 0x2592a48cc90>"
      ]
     },
     "metadata": {},
     "output_type": "display_data"
    },
    {
     "data": {
      "application/vnd.jupyter.widget-view+json": {
       "model_id": "8c72243183fa4201b0b3c2187f7d122e",
       "version_major": 2,
       "version_minor": 0
      },
      "text/plain": [
       "Processing:   0%|          | 0/77 [00:00<?, ?it/s]"
      ]
     },
     "metadata": {},
     "output_type": "display_data"
    }
   ],
   "source": [
    "# 6. Porównanie modeli\n",
    "best_model = compare_models()"
   ]
  },
  {
   "cell_type": "code",
   "execution_count": 9,
   "id": "61d16cef-0b51-4a9b-a205-c62f075f134e",
   "metadata": {},
   "outputs": [
    {
     "data": {
      "text/html": [
       "<style type=\"text/css\">\n",
       "</style>\n",
       "<table id=\"T_47d32\">\n",
       "  <thead>\n",
       "    <tr>\n",
       "      <th class=\"blank level0\" >&nbsp;</th>\n",
       "      <th id=\"T_47d32_level0_col0\" class=\"col_heading level0 col0\" >Model</th>\n",
       "      <th id=\"T_47d32_level0_col1\" class=\"col_heading level0 col1\" >MAE</th>\n",
       "      <th id=\"T_47d32_level0_col2\" class=\"col_heading level0 col2\" >MSE</th>\n",
       "      <th id=\"T_47d32_level0_col3\" class=\"col_heading level0 col3\" >RMSE</th>\n",
       "      <th id=\"T_47d32_level0_col4\" class=\"col_heading level0 col4\" >R2</th>\n",
       "      <th id=\"T_47d32_level0_col5\" class=\"col_heading level0 col5\" >RMSLE</th>\n",
       "      <th id=\"T_47d32_level0_col6\" class=\"col_heading level0 col6\" >MAPE</th>\n",
       "    </tr>\n",
       "  </thead>\n",
       "  <tbody>\n",
       "    <tr>\n",
       "      <th id=\"T_47d32_level0_row0\" class=\"row_heading level0 row0\" >0</th>\n",
       "      <td id=\"T_47d32_row0_col0\" class=\"data row0 col0\" >Dummy Regressor</td>\n",
       "      <td id=\"T_47d32_row0_col1\" class=\"data row0 col1\" >2840.1829</td>\n",
       "      <td id=\"T_47d32_row0_col2\" class=\"data row0 col2\" >12340837.0000</td>\n",
       "      <td id=\"T_47d32_row0_col3\" class=\"data row0 col3\" >3512.9529</td>\n",
       "      <td id=\"T_47d32_row0_col4\" class=\"data row0 col4\" >-0.0007</td>\n",
       "      <td id=\"T_47d32_row0_col5\" class=\"data row0 col5\" >0.3626</td>\n",
       "      <td id=\"T_47d32_row0_col6\" class=\"data row0 col6\" >0.3312</td>\n",
       "    </tr>\n",
       "  </tbody>\n",
       "</table>\n"
      ],
      "text/plain": [
       "<pandas.io.formats.style.Styler at 0x2592a857d10>"
      ]
     },
     "metadata": {},
     "output_type": "display_data"
    }
   ],
   "source": [
    "# 7. Predykcja (na tym samym zbiorze – tylko testowo)\n",
    "preds = predict_model(best_model)"
   ]
  },
  {
   "cell_type": "code",
   "execution_count": 10,
   "id": "5642f278-c5a7-40bd-9501-8686091dde11",
   "metadata": {},
   "outputs": [
    {
     "name": "stdout",
     "output_type": "stream",
     "text": [
      "Transformation Pipeline and Model Successfully Saved\n"
     ]
    },
    {
     "data": {
      "text/plain": [
       "(Pipeline(memory=Memory(location=None),\n",
       "          steps=[('numerical_imputer',\n",
       "                  TransformerWrapper(include=[], transformer=SimpleImputer())),\n",
       "                 ('categorical_imputer',\n",
       "                  TransformerWrapper(include=['Miasto', 'Rok', 'Kwartał'],\n",
       "                                     transformer=SimpleImputer(strategy='most_frequent'))),\n",
       "                 ('onehot_encoding',\n",
       "                  TransformerWrapper(include=['Miasto', 'Rok', 'Kwartał'],\n",
       "                                     transformer=OneHotEncoder(cols=['Miasto',\n",
       "                                                                     'Rok',\n",
       "                                                                     'Kwartał'],\n",
       "                                                               handle_missing='return_nan',\n",
       "                                                               use_cat_names=True))),\n",
       "                 ('clean_column_names',\n",
       "                  TransformerWrapper(transformer=CleanColumnNames())),\n",
       "                 ('trained_model', DummyRegressor())]),\n",
       " 'model_ceny_mieszkan.pkl')"
      ]
     },
     "execution_count": 10,
     "metadata": {},
     "output_type": "execute_result"
    }
   ],
   "source": [
    "# 8. Zapisanie najlepszego modelu\n",
    "save_model(best_model, 'model_ceny_mieszkan')"
   ]
  },
  {
   "cell_type": "code",
   "execution_count": null,
   "id": "353b5771-7bfe-40b3-9b6f-37614cafc194",
   "metadata": {},
   "outputs": [],
   "source": [
    "# 9. Wczytanie modelu (opcjonalnie później)\n",
    "# model = load_model('model_ceny_mieszkan')"
   ]
  }
 ],
 "metadata": {
  "kernelspec": {
   "display_name": "Python 3 (ipykernel)",
   "language": "python",
   "name": "python3"
  },
  "language_info": {
   "codemirror_mode": {
    "name": "ipython",
    "version": 3
   },
   "file_extension": ".py",
   "mimetype": "text/x-python",
   "name": "python",
   "nbconvert_exporter": "python",
   "pygments_lexer": "ipython3",
   "version": "3.11.11"
  }
 },
 "nbformat": 4,
 "nbformat_minor": 5
}
